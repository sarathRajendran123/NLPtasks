{
 "cells": [
  {
   "cell_type": "code",
   "execution_count": 7,
   "id": "8cfff956",
   "metadata": {},
   "outputs": [
    {
     "name": "stderr",
     "output_type": "stream",
     "text": [
      "[nltk_data] Downloading package wordnet_ic to\n",
      "[nltk_data]     C:\\Users\\win10\\AppData\\Roaming\\nltk_data...\n",
      "[nltk_data]   Unzipping corpora\\wordnet_ic.zip.\n"
     ]
    },
    {
     "data": {
      "text/plain": [
       "True"
      ]
     },
     "execution_count": 7,
     "metadata": {},
     "output_type": "execute_result"
    }
   ],
   "source": [
    "import nltk\n",
    "nltk.download('wordnet_ic')"
   ]
  },
  {
   "cell_type": "code",
   "execution_count": 11,
   "id": "e6bd4488",
   "metadata": {},
   "outputs": [
    {
     "name": "stdout",
     "output_type": "stream",
     "text": [
      "Enter First Word: Lion\n",
      "Enter Second Word: Animal\n",
      "Resnik similarity: 4.946011690719864\n",
      "Jiang-Conrath similarity: 0.16432230720772434\n",
      "Lin similarity: 0.6191172814072974\n",
      "Leacock-Chodorow similarity: 1.4403615823901665\n",
      "Wu-Palmer similarity: 0.6363636363636364\n"
     ]
    }
   ],
   "source": [
    "from nltk.corpus import wordnet_ic\n",
    "\n",
    "# Define a function to compute information content\n",
    "def ic(corpus):\n",
    "    return wordnet_ic.ic(corpus)\n",
    "\n",
    "# Example usage\n",
    "word1 = input(\"Enter First Word: \")\n",
    "word2 = input(\"Enter Second Word: \")\n",
    "\n",
    "# Get the synsets for the input words\n",
    "synsets1 = wordnet.synsets(word1)\n",
    "synsets2 = wordnet.synsets(word2)\n",
    "\n",
    "if synsets1 and synsets2:  # Check if synsets exist for both words\n",
    "    synset1 = synsets1[0]  # Take the first synset for each word\n",
    "    synset2 = synsets2[0]\n",
    "    \n",
    "    # Choose an appropriate corpus for information content calculation\n",
    "    corpus = wordnet_ic.ic('ic-brown.dat')  # Example using the Brown corpus\n",
    "    \n",
    "    # Calculate similarities\n",
    "    res_similarity_score = res_similarity(synset1, synset2, corpus)\n",
    "    jcn_similarity_score = jcn_similarity(synset1, synset2, corpus)\n",
    "    lin_similarity_score = lin_similarity(synset1, synset2, corpus)\n",
    "    lch_similarity_score = lch_similarity(synset1, synset2)\n",
    "    wup_similarity_score = wup_similarity(synset1, synset2)\n",
    "    \n",
    "    # Print the similarity scores\n",
    "    print(\"Resnik similarity:\", res_similarity_score)\n",
    "    print(\"Jiang-Conrath similarity:\", jcn_similarity_score)\n",
    "    print(\"Lin similarity:\", lin_similarity_score)\n",
    "    print(\"Leacock-Chodorow similarity:\", lch_similarity_score)\n",
    "    print(\"Wu-Palmer similarity:\", wup_similarity_score)\n",
    "else:\n",
    "    print(\"One or both words do not have synsets in WordNet.\")\n"
   ]
  },
  {
   "cell_type": "code",
   "execution_count": 14,
   "id": "6a6fd192",
   "metadata": {},
   "outputs": [
    {
     "name": "stdout",
     "output_type": "stream",
     "text": [
      "Enter the first word: Lion\n",
      "Enter the second word: Animal\n",
      "Resnik similarity: 4.946011690719864\n",
      "Jiang-Conrath similarity: 0.16432230720772434\n",
      "Lin similarity: 0.6191172814072974\n",
      "Leacock-Chodorow similarity: 1.4403615823901665\n",
      "Wu-Palmer similarity: 0.6363636363636364\n"
     ]
    }
   ],
   "source": [
    "from nltk.corpus import wordnet\n",
    "from nltk.corpus import wordnet_ic\n",
    "\n",
    "# Function to compute Resnik similarity\n",
    "def res_similarity(synset1, synset2, ic):\n",
    "    return synset1.res_similarity(synset2, ic)\n",
    "\n",
    "# Function to compute Jiang-Conrath similarity\n",
    "def jcn_similarity(synset1, synset2, ic):\n",
    "    return synset1.jcn_similarity(synset2, ic)\n",
    "\n",
    "# Function to compute Lin similarity\n",
    "def lin_similarity(synset1, synset2, ic):\n",
    "    return synset1.lin_similarity(synset2, ic)\n",
    "\n",
    "# Function to compute Leacock-Chodorow similarity\n",
    "def lch_similarity(synset1, synset2):\n",
    "    return synset1.lch_similarity(synset2)\n",
    "\n",
    "# Function to compute Wu-Palmer similarity\n",
    "def wup_similarity(synset1, synset2):\n",
    "    return synset1.wup_similarity(synset2)\n",
    "\n",
    "# Define a function to compute information content from a corpus\n",
    "def ic(corpus):\n",
    "    return wordnet_ic.ic(corpus)\n",
    "\n",
    "# Example usage\n",
    "word1 = input(\"Enter the first word: \")\n",
    "word2 = input(\"Enter the second word: \")\n",
    "\n",
    "# Get the synsets for the input words\n",
    "synsets1 = wordnet.synsets(word1)\n",
    "synsets2 = wordnet.synsets(word2)\n",
    "\n",
    "if synsets1 and synsets2:  # Check if synsets exist for both words\n",
    "    synset1 = synsets1[0]  # Take the first synset for each word\n",
    "    synset2 = synsets2[0]\n",
    "    \n",
    "    # Choose an appropriate corpus for information content calculation\n",
    "    corpus = wordnet_ic.ic('ic-brown.dat')  # Example using the Brown corpus\n",
    "    \n",
    "    # Calculate similarities\n",
    "    res_similarity_score = res_similarity(synset1, synset2, corpus)\n",
    "    jcn_similarity_score = jcn_similarity(synset1, synset2, corpus)\n",
    "    lin_similarity_score = lin_similarity(synset1, synset2, corpus)\n",
    "    lch_similarity_score = lch_similarity(synset1, synset2)\n",
    "    wup_similarity_score = wup_similarity(synset1, synset2)\n",
    "    \n",
    "    # Print the similarity scores\n",
    "    print(\"Resnik similarity:\", res_similarity_score)\n",
    "    print(\"Jiang-Conrath similarity:\", jcn_similarity_score)\n",
    "    print(\"Lin similarity:\", lin_similarity_score)\n",
    "    print(\"Leacock-Chodorow similarity:\", lch_similarity_score)\n",
    "    print(\"Wu-Palmer similarity:\", wup_similarity_score)\n",
    "else:\n",
    "    print(\"One or both words do not have synsets in WordNet.\")\n"
   ]
  },
  {
   "cell_type": "code",
   "execution_count": null,
   "id": "fb67d4d2",
   "metadata": {},
   "outputs": [],
   "source": []
  }
 ],
 "metadata": {
  "kernelspec": {
   "display_name": "Python 3 (ipykernel)",
   "language": "python",
   "name": "python3"
  },
  "language_info": {
   "codemirror_mode": {
    "name": "ipython",
    "version": 3
   },
   "file_extension": ".py",
   "mimetype": "text/x-python",
   "name": "python",
   "nbconvert_exporter": "python",
   "pygments_lexer": "ipython3",
   "version": "3.9.12"
  }
 },
 "nbformat": 4,
 "nbformat_minor": 5
}
