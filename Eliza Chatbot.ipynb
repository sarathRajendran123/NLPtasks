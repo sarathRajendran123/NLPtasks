{
 "cells": [
  {
   "cell_type": "code",
   "execution_count": 2,
   "id": "a518661f",
   "metadata": {},
   "outputs": [
    {
     "name": "stdout",
     "output_type": "stream",
     "text": [
      "Bot: Hi! How can I assist you today?\n",
      "User: Hello\n",
      "Bot: Hi. Before I help you, please tell me your name.\n",
      "User: My name is abc\n",
      "Bot: Hi abc. Can I get your order number?\n",
      "User: my order number is 0987654321\n",
      "Bot: Your order is 0987654321. Enter your registered mobile number and email id for OTP.\n",
      "User: mob # +07654321576 email id abc@mye.com\n",
      "Bot: Your order is 07654321576. Enter your registered mobile number and email id for OTP.\n",
      "User: 4444 88888 / 88888 4444\n",
      "Bot: Your order is 4444. Enter your registered mobile number and email id for OTP.\n",
      "User: the product overheated after continuous usage of four hours\n",
      "Bot: We have registered your complaint. Thank you.\n"
     ]
    }
   ],
   "source": [
    "import re\n",
    "\n",
    "def eliza_chat():\n",
    "    print(\"Bot: Hi! How can I assist you today?\")\n",
    "    while True:\n",
    "        user_input = input(\"User: \").lower()\n",
    "        if re.search(r'\\bhi\\b|\\bhello\\b', user_input):\n",
    "            print(\"Bot: Hi. Before I help you, please tell me your name.\")\n",
    "        elif re.search(r'my name is (\\w+)|I am (\\w+)|myself (\\w+)', user_input):\n",
    "            match = re.search(r'my name is (\\w+)|I am (\\w+)|myself (\\w+)', user_input)\n",
    "            name = match.group(1) or match.group(2) or match.group(3)\n",
    "            print(f\"Bot: Hi {name}. Can I get your order number?\")\n",
    "        elif re.search(r'order (\\d+)|(\\d+)|order #(\\d+)', user_input):\n",
    "            match = re.search(r'order (\\d+)|(\\d+)|order #(\\d+)', user_input)\n",
    "            order_number = match.group(1) or match.group(2) or match.group(3)\n",
    "            print(f\"Bot: Your order is {order_number}. Enter your registered mobile number and email id for OTP.\")\n",
    "        elif re.search(r'mobile \\+(\\d+)|mob # \\+(\\d+)|email (\\w+@\\w+\\.\\w+)|email id (\\w+@\\w+\\.\\w+)', user_input):\n",
    "            match = re.search(r'mobile \\+(\\d+)|mob # \\+(\\d+)|email (\\w+@\\w+\\.\\w+)|email id (\\w+@\\w+\\.\\w+)', user_input)\n",
    "            mobile = match.group(1) or match.group(2)\n",
    "            email = match.group(3) or match.group(4)\n",
    "            print(\"Bot: Enter the 4-digit mobile OTP and 5-digit email OTP.\")\n",
    "        elif re.search(r'(\\d{4}) (\\d{5})|(\\d{5}) (\\d{4})', user_input):\n",
    "            match = re.search(r'(\\d{4}) (\\d{5})|(\\d{5}) (\\d{4})', user_input)\n",
    "            mobile_otp = match.group(1) or match.group(4)\n",
    "            email_otp = match.group(2) or match.group(3)\n",
    "            print(\"Bot: Thanks for user verification. Please enter your complaint.\")\n",
    "        elif re.search(r'the product overheated after continuous usage of four hours', user_input):\n",
    "            print(\"Bot: We have registered your complaint. Thank you.\")\n",
    "            break\n",
    "        else:\n",
    "            print(\"Bot: I'm sorry, I didn't understand. Can you please repeat that?\")\n",
    "    \n",
    "if __name__ == \"__main__\":\n",
    "    eliza_chat()\n"
   ]
  },
  {
   "cell_type": "code",
   "execution_count": null,
   "id": "c0b5e38c",
   "metadata": {},
   "outputs": [],
   "source": []
  }
 ],
 "metadata": {
  "kernelspec": {
   "display_name": "Python 3 (ipykernel)",
   "language": "python",
   "name": "python3"
  },
  "language_info": {
   "codemirror_mode": {
    "name": "ipython",
    "version": 3
   },
   "file_extension": ".py",
   "mimetype": "text/x-python",
   "name": "python",
   "nbconvert_exporter": "python",
   "pygments_lexer": "ipython3",
   "version": "3.9.12"
  }
 },
 "nbformat": 4,
 "nbformat_minor": 5
}
